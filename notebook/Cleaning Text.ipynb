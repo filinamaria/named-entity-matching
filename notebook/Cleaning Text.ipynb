{
 "cells": [
  {
   "cell_type": "markdown",
   "metadata": {},
   "source": [
    "## Open JSON File"
   ]
  },
  {
   "cell_type": "code",
   "execution_count": 1,
   "metadata": {},
   "outputs": [],
   "source": [
    "fopen = open(\"/Users/kunbudiharta/Documents/Belajar/coref/documents.json\",\"r\").readlines()"
   ]
  },
  {
   "cell_type": "code",
   "execution_count": 2,
   "metadata": {},
   "outputs": [
    {
     "data": {
      "text/plain": [
       "101000"
      ]
     },
     "execution_count": 2,
     "metadata": {},
     "output_type": "execute_result"
    }
   ],
   "source": [
    "len(fopen)"
   ]
  },
  {
   "cell_type": "markdown",
   "metadata": {},
   "source": [
    "## Call Packages Needed"
   ]
  },
  {
   "cell_type": "code",
   "execution_count": 3,
   "metadata": {
    "collapsed": true
   },
   "outputs": [],
   "source": [
    "import re\n",
    "import json\n",
    "import spacy\n",
    "from collections import defaultdict\n",
    "from tqdm import tqdm\n",
    "\n",
    "nlp = spacy.load('id_beritagar')"
   ]
  },
  {
   "cell_type": "code",
   "execution_count": 4,
   "metadata": {
    "collapsed": true
   },
   "outputs": [],
   "source": [
    "def get_entities(txt):\n",
    "    entities = defaultdict(list)\n",
    "    doc = nlp(txt)\n",
    "    for ents in doc.ents:\n",
    "        ent = ents.text\n",
    "        entities[ent] = ent.lower().replace(\" \",\"_\")\n",
    "    return entities"
   ]
  },
  {
   "cell_type": "code",
   "execution_count": 5,
   "metadata": {},
   "outputs": [
    {
     "name": "stderr",
     "output_type": "stream",
     "text": [
      "Writing to file: 100%|██████████| 1000/1000 [01:01<00:00, 16.33it/s]\n"
     ]
    }
   ],
   "source": [
    "fsave = open(\"../corpus/clean_text.txt\",\"w\")\n",
    "for i in tqdm(range(len(fopen[:1000])), desc=\"Writing to file: \"):\n",
    "    data = fopen[i]\n",
    "    data = json.loads(data)\n",
    "    ent = get_entities(data['text'])\n",
    "    for k in ent.keys():\n",
    "        data['text'] = data['text'].replace(k,ent[k])\n",
    "    s = data['text'].lower()\n",
    "    s = re.sub(r'[^\\w\\s]',' ',s)\n",
    "    s = s.replace(\"\\n\",\"\")\n",
    "    s = \" \".join(s.split())\n",
    "    fsave.write(\"{text}\\n\".format(text=s))\n",
    "fsave.close()\n",
    "\n"
   ]
  }
 ],
 "metadata": {
  "kernelspec": {
   "display_name": "py3",
   "language": "python",
   "name": "py3"
  },
  "language_info": {
   "codemirror_mode": {
    "name": "ipython",
    "version": 3
   },
   "file_extension": ".py",
   "mimetype": "text/x-python",
   "name": "python",
   "nbconvert_exporter": "python",
   "pygments_lexer": "ipython3",
   "version": "3.6.2"
  }
 },
 "nbformat": 4,
 "nbformat_minor": 2
}
